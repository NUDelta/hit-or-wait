{
 "cells": [
  {
   "cell_type": "code",
   "execution_count": 14,
   "metadata": {},
   "outputs": [],
   "source": [
    "import matplotlib.pyplot as plt\n",
    "import numpy as np\n",
    "\n",
    "# def findAngle(v1, v2):\n",
    "#     angle = np.rad2deg(np.arctan2(v2[1] - v1[1], v2[0] - v1[0]))\n",
    "#     return angle\n",
    "\n",
    "from math import *\n",
    "\n",
    "def angle_trunc(a):\n",
    "    while a < 0.0:\n",
    "        a += pi * 2\n",
    "    return a\n",
    "\n",
    "def findAngle(v1, v2):\n",
    "    x_orig, y_orig = v1\n",
    "    x_landmark, y_landmark = v2\n",
    "    deltaY = y_landmark - y_orig\n",
    "    deltaX = x_landmark - x_orig\n",
    "    return np.rad2deg(angle_trunc(atan2(deltaY, deltaX)))\n",
    "\n",
    "def findMatchingTrianglesIndices(vertex, listOfTriangles):\n",
    "    return [i for i, x in enumerate(listOfTriangles) if vertex in x]\n",
    "\n",
    "def convertTrianglesToLinesWithSmallerAngle(matchingTrianglesIndices, listOfTriangles, vertex):\n",
    "    result = []\n",
    "    for i in matchingTrianglesIndices:\n",
    "        tri = listOfTriangles[i]\n",
    "        remVertices = list(filter(lambda x: x != vertex, tri))\n",
    "        angles = list(map(lambda x : findAngle(vertex, x), remVertices))\n",
    "        # it's messy because we need to get the smaller angle, looking counter-clockwise, but, for example, 355 > 10\n",
    "        if angles[0] > angles[1]:\n",
    "            larger = 0\n",
    "            smaller = 1\n",
    "        else:\n",
    "            larger = 1\n",
    "            smaller = 0\n",
    "        isMessy = angles[larger] - angles[smaller] > 180\n",
    "        if isMessy:\n",
    "            result.append(([vertex, remVertices[larger]], i))\n",
    "        else:\n",
    "            result.append(([vertex, remVertices[smaller]], i))\n",
    "    return result\n",
    "\n",
    "def findAllOuterPolygons(listOfInnerPolygons, listOfTriangles, listOfCircumcenters):\n",
    "    outerPolygons = []\n",
    "    for innerPoly in listOfInnerPolygons:\n",
    "        outerPolygons.append(findOuterPolygon(innerPoly, listOfTriangles, listOfCircumcenters))\n",
    "\n",
    "    return outerPolygons\n",
    "\n",
    "def findOuterPolygon(innerPoly, listOfTriangles, listOfCircumcenters, plt):\n",
    "    circumcentersInOuterPoly = []\n",
    "    count = 0\n",
    "    for i in range(0, len(innerPoly)):\n",
    "        matchingTrianglesIndices = findMatchingTrianglesIndices(innerPoly[i], listOfTriangles)\n",
    "        matchingSegments = convertTrianglesToLinesWithSmallerAngle(matchingTrianglesIndices, listOfTriangles, innerPoly[i])\n",
    "        #append edge of hole to know where to start\n",
    "        edge = [innerPoly[i], innerPoly[(i-1)%len(innerPoly)]]\n",
    "        matchingSegments.append((edge, -1))\n",
    "        #sort all segments by angle\n",
    "        matchingSegments.sort(key = lambda x: findAngle(x[0][0], x[0][1]))\n",
    "        #find what the starting index (and offset) should be\n",
    "        offset = matchingSegments.index((edge, -1)) + 1\n",
    "        for j in range(0, len(matchingSegments) - 1):\n",
    "            indexInCircumcenters = matchingSegments[(j+offset)%len(matchingSegments)][1]\n",
    "            cc = listOfCircumcenters[indexInCircumcenters]\n",
    "            circumcentersInOuterPoly.append(cc)\n",
    "            plt.text(cc[0], cc[1], count)\n",
    "            pt = matchingSegments[(j+offset)%len(matchingSegments)][0][1]\n",
    "            plt.text(pt[0], pt[1], count)\n",
    "            count += 1\n",
    "\n"
   ]
  },
  {
   "cell_type": "code",
   "execution_count": 18,
   "metadata": {},
   "outputs": [
    {
     "data": {
      "text/plain": [
       "189.15233904940197"
      ]
     },
     "execution_count": 18,
     "metadata": {},
     "output_type": "execute_result"
    }
   ],
   "source": [
    "findAngle([-5.0, -4.75], [-10.0, -5.555555555555555])"
   ]
  },
  {
   "cell_type": "code",
   "execution_count": null,
   "metadata": {},
   "outputs": [],
   "source": [
    "[[[-10.0, -5.555555555555555], [-5.0, -5.0], [-5.0, -4.75]], [[-5.0, -4.75], [-5.0, -4.5], [-10.0, -5.555555555555555]]]"
   ]
  },
  {
   "cell_type": "code",
   "execution_count": 21,
   "metadata": {},
   "outputs": [
    {
     "data": {
      "text/plain": [
       "189.15233904940197"
      ]
     },
     "execution_count": 21,
     "metadata": {},
     "output_type": "execute_result"
    }
   ],
   "source": [
    "findAngle([-5.0, -4.75], [-10.0, -5.555555555555555])"
   ]
  },
  {
   "cell_type": "code",
   "execution_count": null,
   "metadata": {},
   "outputs": [],
   "source": []
  }
 ],
 "metadata": {
  "kernelspec": {
   "display_name": "Python 3",
   "language": "python",
   "name": "python3"
  },
  "language_info": {
   "codemirror_mode": {
    "name": "ipython",
    "version": 3
   },
   "file_extension": ".py",
   "mimetype": "text/x-python",
   "name": "python",
   "nbconvert_exporter": "python",
   "pygments_lexer": "ipython3",
   "version": "3.6.5"
  }
 },
 "nbformat": 4,
 "nbformat_minor": 2
}
